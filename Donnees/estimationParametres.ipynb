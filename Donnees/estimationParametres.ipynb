{
 "cells": [
  {
   "cell_type": "code",
   "execution_count": 1,
   "metadata": {},
   "outputs": [],
   "source": [
    "import numpy as np\n",
    "import pandas as pd"
   ]
  },
  {
   "cell_type": "code",
   "execution_count": 38,
   "metadata": {},
   "outputs": [
    {
     "name": "stdout",
     "output_type": "stream",
     "text": [
      "[0.11111111 0.36986301 0.225     ]\n",
      "With proteins :  [0.00877193 0.01311953 0.01153846]\n",
      "Average :  0.011143308296906579\n",
      "0.016666666666666666\n",
      "[4.55555556 4.76470588 4.76470588]\n",
      "With calories :  [0.01630867 0.01632406 0.01632406]\n",
      "Average :  0.016318932398560002\n",
      "0.016666666666666666\n"
     ]
    }
   ],
   "source": [
    "### Source : Consommation alimentaire dans trois populations forestières de la région côtière du Cameroun: Yassa, Mvae et Bakola, page 490\n",
    "\n",
    "muD = 1 / 60\n",
    "m = 0.1\n",
    "\n",
    "ConsoChasse = np.array([88, 70, 78])\n",
    "ConsoLocal = np.array([10, 27, 18])\n",
    "ConsoImportation = np.array([2,3,2])\n",
    "\n",
    "Prop =  ConsoLocal / (ConsoChasse + ConsoImportation)\n",
    "print(Prop)\n",
    "\n",
    "fDs = Prop / (Prop + m) * muD\n",
    "print(\"With proteins : \", fDs)\n",
    "print(\"Average : \", np.average(fDs))\n",
    "print(muD)\n",
    "\n",
    "ConsoChasse = np.array([13, 12, 14])\n",
    "ConsoLocal = np.array([82, 81, 81])\n",
    "ConsoImportation = np.array([5,5,3])\n",
    "\n",
    "Prop =  ConsoLocal / (ConsoChasse + ConsoImportation)\n",
    "print(Prop)\n",
    "fDs = Prop / (Prop + m) * muD\n",
    "print(\"With calories : \", fDs)\n",
    "print(\"Average : \", np.average(fDs))\n",
    "print(muD)"
   ]
  },
  {
   "cell_type": "code",
   "execution_count": null,
   "metadata": {},
   "outputs": [],
   "source": [
    "### Source : DESA RAPPORT CFSAM 2019, région Est 2019\n",
    "\n",
    "#### Culture ###\n",
    "Culture = pd.DataFrame(np.array([[4840, 400], [18489, 19165], [30232, 20249], [840,105], [892657, 79175],[459043, 54343], [841323, 89106]]),\n",
    "                       columns = ['Productions (T)', 'Superficies (Ha)'], index=[\"Igname\", \"Arachide\", \"Maïs\", \"Patate\", \"Banane Plantain\", \"Macabo\", \"Manioc\"])\n",
    "\n",
    "### Elevage ###\n",
    "Elevage = pd.DataFrame(np.array([[6747],[492],[1206],[623],[2531]]),\n",
    "                       columns = ['Prooductions(T)'], index=[\"Bovin\", \"Caprin\", \"Ovin\", \"Porcin\", \"Volailles\"])\n",
    "\n",
    "### Population ###\n",
    "Pop = 771755\n",
    "\n"
   ]
  },
  {
   "cell_type": "markdown",
   "metadata": {},
   "source": [
    "## Calcul de $r_F$\n",
    "On utilise une formule donnant le taux de croissance intrinsèque à partir du poids, voir Relationship Among Body Mass, Metabolic Rate and the Intrinsic Rate of Natural Increase in Mammals.\n",
    "\n",
    "J'applique cette formule au poids moyen des animaux chassés par une population Baka, voir Hunting Techniques, Wildlife Offtake and Market Integration. A Perspective from Individual Variations among the Baka (Cameroon)"
   ]
  },
  {
   "cell_type": "code",
   "execution_count": 31,
   "metadata": {},
   "outputs": [
    {
     "name": "stdout",
     "output_type": "stream",
     "text": [
      "[0.44868827 0.66913207 0.54141175 0.64017838 0.45959746 0.71521529\n",
      " 0.8368324  0.62916526]\n",
      "              0\n",
      "count  8.000000\n",
      "mean   0.617528\n",
      "std    0.131035\n",
      "min    0.448688\n",
      "25%    0.520958\n",
      "50%    0.634672\n",
      "75%    0.680653\n",
      "max    0.836832\n"
     ]
    }
   ],
   "source": [
    "wheightDruickerAll = 1897.7/206 * 1000 #poids des prises/ nbr des prises, en gramme\n",
    "wheightRodentsAll = 509.6 / 254 * 1000\n",
    "wheightHyraxes = 9 / 2 * 1000\n",
    "wheightPholidotes = 38 / 16 *1000\n",
    "wheightPrimatesAll = 596.8 / 71 * 1000\n",
    "wheightCarbnivoresAll = 24.9 / 16 *1000\n",
    "wheightBirdsAll = 5.13 / 6 *1000\n",
    "wheightReptilesAll = 20.3 / 8 * 1000\n",
    "\n",
    "allList = np.array([wheightDruickerAll, wheightRodentsAll, wheightHyraxes, wheightPholidotes, wheightPrimatesAll, wheightCarbnivoresAll, wheightBirdsAll, wheightReptilesAll])\n",
    "\n",
    "rm = lambda w : 10**(-0.2622 * np.log10(w) + 0.6914)\n",
    "\n",
    "print(rm(allList))\n",
    "print(pd.DataFrame(rm(allList)).describe())\n"
   ]
  },
  {
   "cell_type": "markdown",
   "metadata": {},
   "source": [
    "## Calcul de $K_F$\n",
    "J'utilise les données issues de Ecological Structure of the Nonfiying Mammal Community at Cocha Cashu Biological Station, Manu National Park, Peru.\n",
    "\n",
    "Elles donnent une densité d'animaux au km^2\n",
    "\n",
    "Je multiplie ensuite cette densité par la zone de chasse. Celle ci varie, peu de données dessus (uniquement dans avila_interpreting_2019): 112 à 44 km2 pour 3 villages (la source de ces chiffres est introuvable).\n",
    "Je prends (arbitrairement) 5 km^2"
   ]
  },
  {
   "cell_type": "code",
   "execution_count": 34,
   "metadata": {},
   "outputs": [
    {
     "name": "stdout",
     "output_type": "stream",
     "text": [
      "908.659\n",
      "4543.295\n",
      "33923.26933333334\n"
     ]
    }
   ],
   "source": [
    "## Source : Ecological Structure of the Nonfiying Mammal Community at Cocha Cashu Biological Station, Manu National Park, Peru\n",
    "\n",
    "density = [12,10,15,10,25,55,40,24,30,40,35,60,25,1,5,16,12,25,180,3.5,5.2,5.3,230,25.3,6.8,0.024,0.8,0.035,0.5,3,5.6,2.6]\n",
    "densiteTotale = sum(density)\n",
    "print(densiteTotale)\n",
    "print(5*densiteTotale)\n",
    "print(112/3*densiteTotale)"
   ]
  },
  {
   "cell_type": "markdown",
   "metadata": {},
   "source": [
    "## Calcul de $m_D$ et $m_W$\n",
    "$1/m_W$ est estimé comme le temps passé à chasser.\n",
    "Le temps passé à chasser varie selon les sources (15j/an pour avila_interpreting_2019, 160j/an pour duda_hunting_2017, 24/an pour jones_consequences_2020a, 5j/an pour jones_incentives_2019)\n",
    "\n",
    "On obtient donc un intervalle de $[365/160, 365/5] = [2.25, 75]$.\n",
    "\n",
    "On peut aussi écrire $m_W = \\dfrac{\\tilde{m_W}}{\\epsilon}$ avec $\\epsilon = 1/365$\n",
    "\n",
    "Pour $m_D$, on utilise la relation $m = \\dfrac{H_W^*}{H_D^*} = \\dfrac{m_D}{m_W}$.\n",
    "Les proportions de villageois/chasseurs sont calculées grâce aux données de avila_interpreting_2019\n"
   ]
  },
  {
   "cell_type": "code",
   "execution_count": 26,
   "metadata": {},
   "outputs": [
    {
     "name": "stdout",
     "output_type": "stream",
     "text": [
      "m_W min  2.28125\n",
      "m_W max  73.0\n",
      "m =  count    9.000000\n",
      "mean     0.322171\n",
      "std      0.122573\n",
      "min      0.171429\n",
      "25%      0.225000\n",
      "50%      0.310345\n",
      "75%      0.339623\n",
      "max      0.517857\n",
      "Name: Prop, dtype: float64\n",
      "max m_D :  37.80357142857143\n",
      "min m_D :  0.39107142857142857\n"
     ]
    }
   ],
   "source": [
    "Population = pd.DataFrame(np.array([[82,71,85,143,163,152,98,81,71],[12,18,29,23,38,36,18,27,18]]),\n",
    "                          columns=[\"DP2003\", \"DP2009\", \"DP2016\", \"M2003\", \"M2009\", \"M2016\", \"Mi2003\", \"Mi2009\", \"Mi2016\"],\n",
    "                          index=[\"Total Pop\", \"Total hunter\"])\n",
    "Population.loc[\"Pop villagers\"] = Population.loc[\"Total Pop\"] - Population.loc[\"Total hunter\"] \n",
    "Population.loc[\"Prop Hunter / Total\"] = Population.loc[\"Total hunter\"] / Population.loc[\"Total Pop\"]\n",
    "\n",
    "Population.loc[\"Prop\"] = Population.loc[\"Total hunter\"] / Population.loc[\"Pop villagers\"]\n",
    "# print(\"Proportion : \", Population.loc[\"Prop\"])\n",
    "mean = Population.loc[\"Prop\"].mean()\n",
    "\n",
    "print(\"m_W min \", 365/160)\n",
    "print(\"m_W max \", 365/5)\n",
    "print(\"m = \", Population.loc[\"Prop\"].describe())\n",
    "\n",
    "print(\"max m_D : \", Population.loc[\"Prop\"].max() * 365/5)\n",
    "print(\"min m_D : \", Population.loc[\"Prop\"].min() * 365/160)"
   ]
  },
  {
   "cell_type": "markdown",
   "metadata": {},
   "source": [
    "## Estimation de $f_D$\n",
    "\n",
    "On estime $\\mu_D$ comme étant le taux de mortalité.\n",
    "\n",
    "On estime $f_D$ en utilisant la proportion de nourriture localement produite et celle importée/chassée. A l'équilibre, cette prop est égale à:\n",
    "$$ r = \\dfrac{f_D H_D}{e \\lambda_F F_W^* H_W^*} = {f_D}{\\mu_D - f_D} $$\n",
    "et donc $f_D = \\dfrac{r}{1+r} \\mu_D$\n",
    "\n",
    "L'intervalle de valeur de $r$ est estimé à partir de koppert_food_1993.\n",
    "\n",
    "On prend $\\mu_D = 1/50$.\n"
   ]
  },
  {
   "cell_type": "code",
   "execution_count": 39,
   "metadata": {},
   "outputs": [
    {
     "name": "stdout",
     "output_type": "stream",
     "text": [
      "Pour 50 ans)\n",
      "r [4.55555556 4.76470588 4.76470588]\n",
      "muD :  0.02\n",
      " fD :  [0.0164     0.01653061 0.01653061]\n"
     ]
    }
   ],
   "source": [
    "print(\"Pour 50 ans)\")\n",
    "muD = 1/50\n",
    "r = np.array([82/(18), 81/17, 81/17])\n",
    "fD = r/(r+1) * muD\n",
    "print(\"r\", r)\n",
    "print(\"muD : \", muD)\n",
    "print(\" fD : \", fD)\n"
   ]
  }
 ],
 "metadata": {
  "kernelspec": {
   "display_name": "Python 3",
   "language": "python",
   "name": "python3"
  },
  "language_info": {
   "codemirror_mode": {
    "name": "ipython",
    "version": 3
   },
   "file_extension": ".py",
   "mimetype": "text/x-python",
   "name": "python",
   "nbconvert_exporter": "python",
   "pygments_lexer": "ipython3",
   "version": "3.10.12"
  }
 },
 "nbformat": 4,
 "nbformat_minor": 2
}
