{
 "cells": [
  {
   "cell_type": "code",
   "execution_count": 2,
   "metadata": {},
   "outputs": [],
   "source": [
    "import numpy as np\n",
    "import pandas as pd"
   ]
  },
  {
   "cell_type": "code",
   "execution_count": 32,
   "metadata": {},
   "outputs": [
    {
     "name": "stdout",
     "output_type": "stream",
     "text": [
      "[0.006382978723404255, 0.01611170784103115, 0.0031813361611876985]\n"
     ]
    }
   ],
   "source": [
    "### Source1 : Interpreting long-term trends in bushmeat harvest in southeast Cameroon\n",
    "### Source2 : Consequences of survey method for estimating hunters'  harvest rates\n",
    "### Source3 : Incentives and social relationships of hunters and traders in a Liberian bushmeat system\n",
    "\n",
    "Population = pd.DataFrame(np.array([[82,71,85,143,163,152,98,81,71],[12,18,29,23,38,36,18,27,18]]),\n",
    "                          columns=[\"DP2003\", \"DP2009\", \"DP2016\", \"M2003\", \"M2009\", \"M2016\", \"Mi2003\", \"Mi2009\", \"Mi2016\"],\n",
    "                          index=[\"Total Pop\", \"Total hunter\"])\n",
    "\n",
    "probaBeHunting = 10 / 365 #Source1\n",
    "probaBeHunting2 = 25 / 365 #Source2\n",
    "probaBeHunting3 = 5 / 365 #Source3\n",
    "\n",
    "Population.loc[\"HW1\"] = probaBeHunting * Population.loc[\"Total hunter\"]\n",
    "Population.loc[\"HW2\"] = probaBeHunting2 * Population.loc[\"Total hunter\"]\n",
    "Population.loc[\"HW3\"] = probaBeHunting3 * Population.loc[\"Total hunter\"]\n",
    "\n",
    "\n",
    "Population.insert(0, \"mean\", np.array([np.average(row) for _,row in Population.iterrows()]))\n",
    "\n",
    "ms = [Population[\"mean\"][k] / (Population[\"mean\"][\"Total Pop\"] - Population[\"mean\"][k]) for k in [\"HW1\", \"HW2\", \"HW3\"]]\n",
    "print(ms)"
   ]
  },
  {
   "cell_type": "code",
   "execution_count": 38,
   "metadata": {},
   "outputs": [
    {
     "name": "stdout",
     "output_type": "stream",
     "text": [
      "[0.11111111 0.36986301 0.225     ]\n",
      "With proteins :  [0.00877193 0.01311953 0.01153846]\n",
      "Average :  0.011143308296906579\n",
      "0.016666666666666666\n",
      "[4.55555556 4.76470588 4.76470588]\n",
      "With calories :  [0.01630867 0.01632406 0.01632406]\n",
      "Average :  0.016318932398560002\n",
      "0.016666666666666666\n"
     ]
    }
   ],
   "source": [
    "### Source : Consommation alimentaire dans trois populations forestières de la région côtière du Cameroun: Yassa, Mvae et Bakola, page 490\n",
    "\n",
    "muD = 1 / 60\n",
    "m = 0.1\n",
    "\n",
    "ConsoChasse = np.array([88, 70, 78])\n",
    "ConsoLocal = np.array([10, 27, 18])\n",
    "ConsoImportation = np.array([2,3,2])\n",
    "\n",
    "Prop =  ConsoLocal / (ConsoChasse + ConsoImportation)\n",
    "print(Prop)\n",
    "\n",
    "fDs = Prop / (Prop + m) * muD\n",
    "print(\"With proteins : \", fDs)\n",
    "print(\"Average : \", np.average(fDs))\n",
    "print(muD)\n",
    "\n",
    "ConsoChasse = np.array([13, 12, 14])\n",
    "ConsoLocal = np.array([82, 81, 81])\n",
    "ConsoImportation = np.array([5,5,3])\n",
    "\n",
    "Prop =  ConsoLocal / (ConsoChasse + ConsoImportation)\n",
    "print(Prop)\n",
    "fDs = Prop / (Prop + m) * muD\n",
    "print(\"With calories : \", fDs)\n",
    "print(\"Average : \", np.average(fDs))\n",
    "print(muD)"
   ]
  },
  {
   "cell_type": "code",
   "execution_count": null,
   "metadata": {},
   "outputs": [],
   "source": [
    "### Source : DESA RAPPORT CFSAM 2019, région Est 2019\n",
    "\n",
    "#### Culture ###\n",
    "Culture = pd.DataFrame(np.array([[4840, 400], [18489, 19165], [30232, 20249], [840,105], [892657, 79175],[459043, 54343], [841323, 89106]]),\n",
    "                       columns = ['Productions (T)', 'Superficies (Ha)'], index=[\"Igname\", \"Arachide\", \"Maïs\", \"Patate\", \"Banane Plantain\", \"Macabo\", \"Manioc\"])\n",
    "\n",
    "### Elevage ###\n",
    "Elevage = pd.DataFrame(np.array([[6747],[492],[1206],[623],[2531]]),\n",
    "                       columns = ['Prooductions(T)'], index=[\"Bovin\", \"Caprin\", \"Ovin\", \"Porcin\", \"Volailles\"])\n",
    "\n",
    "### Population ###\n",
    "Pop = 771755\n",
    "\n"
   ]
  },
  {
   "cell_type": "code",
   "execution_count": 2,
   "metadata": {},
   "outputs": [
    {
     "name": "stdout",
     "output_type": "stream",
     "text": [
      "Activites productives moyenne, en heure par semaine 25.674999999999997\n"
     ]
    }
   ],
   "source": [
    "### Source : S. Gwangwa 'a et al. Habitudes alimentaires el état nutritionnel de la population d'Awing\n",
    "# Bien manger et bien vivre, page 323\n",
    "\n",
    "activites_productives = [14.3, 27.8, 29, 31.6] #heures par semaines\n",
    "activites_productives = sum(activites_productives) / len(activites_productives)\n",
    "\n",
    "print(\"Activites productives moyenne, en heure par semaine\", activites_productives)\n",
    "prop_activites_productives = activites_productives / (7 * 24)\n"
   ]
  },
  {
   "cell_type": "code",
   "execution_count": 6,
   "metadata": {},
   "outputs": [
    {
     "name": "stdout",
     "output_type": "stream",
     "text": [
      "               0\n",
      "count  39.000000\n",
      "mean    0.389231\n",
      "std     0.285955\n",
      "min     0.070000\n",
      "25%     0.170000\n",
      "50%     0.280000\n",
      "75%     0.540000\n",
      "max     1.250000\n"
     ]
    }
   ],
   "source": [
    "### Source : Intrinsic rate of natural increase in Neotropical forest mammals: relationship to phylogeny and diet\n",
    "\n",
    "Edentates = [0.39,0.69,0.79,0.59,0.43,0.48,0.35,0.26,0.14,0.23]\n",
    "Primates = [0.23,0.24,0.25,0.17,0.14,0.16,0.11,0.15,0.17,0.07,0.10,0.07,0.14]\n",
    "Lagomorphs = [11.51]\n",
    "Rodents = [0.67,1.10,0.69]\n",
    "Perissodactyls = [0.20]\n",
    "Artiodactyls = [0.84,1.25,0.4,0.49,0.73]\n",
    "Carnivores = [0.23,0.28,0.3,0.66,0.3,0.46,0.23]\n",
    "\n",
    "All = np.array(Edentates + Primates + Lagomorphs + Rodents + Perissodactyls + Artiodactyls + Carnivores)\n",
    "\n",
    "## At least Lagomorphs does not exist in Africa\n",
    "NotAll = np.array(Edentates + Primates +  Rodents + Perissodactyls + Artiodactyls + Carnivores)\n",
    "df = pd.DataFrame(NotAll)\n",
    "print(df.describe())\n"
   ]
  },
  {
   "cell_type": "code",
   "execution_count": 8,
   "metadata": {},
   "outputs": [
    {
     "name": "stdout",
     "output_type": "stream",
     "text": [
      "4543.295\n"
     ]
    }
   ],
   "source": [
    "## Source : Ecological Structure of the Nonfiying Mammal Community at Cocha Cashu Biological Station, Manu National Park, Peru\n",
    "\n",
    "density = [12,10,15,10,25,55,40,24,30,40,35,60,25,1,5,16,12,25,180,3.5,5.2,5.3,230,25.3,6.8,0.024,0.8,0.035,0.5,3,5.6,2.6]\n",
    "totalPopulation = sum(density)\n",
    "\n",
    "print(5*totalPopulation)"
   ]
  }
 ],
 "metadata": {
  "kernelspec": {
   "display_name": "Python 3",
   "language": "python",
   "name": "python3"
  },
  "language_info": {
   "codemirror_mode": {
    "name": "ipython",
    "version": 3
   },
   "file_extension": ".py",
   "mimetype": "text/x-python",
   "name": "python",
   "nbconvert_exporter": "python",
   "pygments_lexer": "ipython3",
   "version": "3.12.3"
  }
 },
 "nbformat": 4,
 "nbformat_minor": 2
}
